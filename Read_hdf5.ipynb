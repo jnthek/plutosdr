{
 "cells": [
  {
   "cell_type": "code",
   "execution_count": 1,
   "metadata": {},
   "outputs": [],
   "source": [
    "import matplotlib.pyplot as plt\n",
    "import numpy as np\n",
    "import h5py\n",
    "import time\n",
    "\n",
    "plt.rcParams.update({'font.size': 18})"
   ]
  },
  {
   "cell_type": "code",
   "execution_count": 2,
   "metadata": {},
   "outputs": [],
   "source": [
    "h5_file = \"20240204-095058_pluto_50ohm.h5\""
   ]
  },
  {
   "cell_type": "code",
   "execution_count": 3,
   "metadata": {},
   "outputs": [
    {
     "name": "stdout",
     "output_type": "stream",
     "text": [
      "Reading 20240204-095058_pluto_50ohm.h5\n",
      "9839\n"
     ]
    }
   ],
   "source": [
    "print (\"Reading\",h5_file)\n",
    "hf = h5py.File(h5_file, 'r')\n",
    "\n",
    "fc = hf[\"data\"].attrs['fc']\n",
    "fs = hf[\"data\"].attrs['fs']\n",
    "c  = hf[\"data\"].attrs['c']\n",
    "len_data = hf[\"data/timestamps\"][()].shape[0]\n",
    "print (len_data)\n",
    "\n",
    "NFFT = 512\n",
    "Nsamp = int(c)\n",
    "\n",
    "auto11 = np.zeros(NFFT, dtype=np.complex64)\n",
    "auto22 = np.zeros(NFFT, dtype=np.complex64)\n",
    "cross12 = np.zeros(NFFT, dtype=np.complex64)\n",
    "\n",
    "for i in range(len_data):\n",
    "    a = hf[\"data/samples\"][()][i][0][:]\n",
    "    b = hf[\"data/samples\"][()][i][1][:]\n",
    "\n",
    "    for j in range(int(Nsamp/NFFT)):\n",
    "        c1_fft = np.fft.fft(a[j*NFFT:(j+1)*NFFT])\n",
    "        c2_fft = np.fft.fft(b[j*NFFT:(j+1)*NFFT])\n",
    "        auto11 = auto11 + c1_fft*np.conj(c1_fft)\n",
    "        auto22 = auto22 + c2_fft*np.conj(c2_fft)\n",
    "        cross12 = cross12 + c1_fft*np.conj(c2_fft)\n",
    "        del(c1_fft)\n",
    "        del(c2_fft)\n",
    "    del(a)\n",
    "    del(b)\n",
    "\n",
    "hf.close()\n",
    "\n",
    "auto11 = np.fft.fftshift(auto11)\n",
    "auto22 = np.fft.fftshift(auto22)\n",
    "cross12 = np.fft.fftshift(cross12)\n"
   ]
  },
  {
   "cell_type": "code",
   "execution_count": null,
   "metadata": {},
   "outputs": [],
   "source": [
    "plt.figure(figsize=(4,3))\n",
    "plt.semilogy(np.abs(auto11))\n",
    "plt.semilogy(np.abs(auto22))\n",
    "plt.semilogy(np.abs(cross12))"
   ]
  }
 ],
 "metadata": {
  "kernelspec": {
   "display_name": "Python 3",
   "language": "python",
   "name": "python3"
  },
  "language_info": {
   "codemirror_mode": {
    "name": "ipython",
    "version": 3
   },
   "file_extension": ".py",
   "mimetype": "text/x-python",
   "name": "python",
   "nbconvert_exporter": "python",
   "pygments_lexer": "ipython3",
   "version": "3.11.0"
  },
  "orig_nbformat": 4
 },
 "nbformat": 4,
 "nbformat_minor": 2
}
